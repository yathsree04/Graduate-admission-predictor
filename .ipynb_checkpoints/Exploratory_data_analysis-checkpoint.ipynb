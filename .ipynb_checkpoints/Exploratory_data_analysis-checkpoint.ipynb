{
 "cells": [
  {
   "cell_type": "code",
   "execution_count": 31,
   "metadata": {},
   "outputs": [],
   "source": [
    "import pandas as pd\n",
    "%matplotlib inline\n",
    "import matplotlib\n",
    "import numpy as np\n",
    "import matplotlib.pyplot as plt\n",
    "import seaborn as sns"
   ]
  },
  {
   "cell_type": "code",
   "execution_count": 32,
   "metadata": {},
   "outputs": [],
   "source": [
    "dataset = pd.read_csv('data_processed.csv')"
   ]
  },
  {
   "cell_type": "code",
   "execution_count": 33,
   "metadata": {},
   "outputs": [
    {
     "data": {
      "text/html": [
       "<div>\n",
       "<style scoped>\n",
       "    .dataframe tbody tr th:only-of-type {\n",
       "        vertical-align: middle;\n",
       "    }\n",
       "\n",
       "    .dataframe tbody tr th {\n",
       "        vertical-align: top;\n",
       "    }\n",
       "\n",
       "    .dataframe thead th {\n",
       "        text-align: right;\n",
       "    }\n",
       "</style>\n",
       "<table border=\"1\" class=\"dataframe\">\n",
       "  <thead>\n",
       "    <tr style=\"text-align: right;\">\n",
       "      <th></th>\n",
       "      <th>BITS ID</th>\n",
       "      <th>Campus</th>\n",
       "      <th>Program Applied</th>\n",
       "      <th>Target Discipline</th>\n",
       "      <th>Sub-Discipline</th>\n",
       "      <th>CGPA</th>\n",
       "      <th>University Selected</th>\n",
       "      <th>GRE Score : Verbal</th>\n",
       "      <th>GRE Score : Quant</th>\n",
       "      <th>GRE Score : AWA</th>\n",
       "      <th>TOEFL Score</th>\n",
       "      <th>Universities Applied</th>\n",
       "      <th>Universities Admit</th>\n",
       "      <th>Universities (Funded admit)</th>\n",
       "      <th>Work experience</th>\n",
       "      <th>Duration of work experience</th>\n",
       "      <th>Relevance of PS2/Thesis to program</th>\n",
       "      <th>Internship other than PS1/PS2</th>\n",
       "      <th>Consultancy/Classes</th>\n",
       "      <th>Conference publication</th>\n",
       "      <th>rank</th>\n",
       "      <th>Other Internship</th>\n",
       "      <th>Success?</th>\n",
       "    </tr>\n",
       "  </thead>\n",
       "  <tbody>\n",
       "    <tr>\n",
       "      <th>0</th>\n",
       "      <td>2015a7ts0081p</td>\n",
       "      <td>pilani</td>\n",
       "      <td>ms</td>\n",
       "      <td>computer science</td>\n",
       "      <td>artificial intelligence/ machine learning</td>\n",
       "      <td>7.93</td>\n",
       "      <td>arizonastate</td>\n",
       "      <td>154.0</td>\n",
       "      <td>170.0</td>\n",
       "      <td>4.0</td>\n",
       "      <td>105.0</td>\n",
       "      <td>arizona state university, carnegie melon unive...</td>\n",
       "      <td>arizona state university</td>\n",
       "      <td>no</td>\n",
       "      <td>yes</td>\n",
       "      <td>1.5</td>\n",
       "      <td>no</td>\n",
       "      <td>yes</td>\n",
       "      <td>no</td>\n",
       "      <td>yes</td>\n",
       "      <td>209.0</td>\n",
       "      <td>yes</td>\n",
       "      <td>yes</td>\n",
       "    </tr>\n",
       "    <tr>\n",
       "      <th>1</th>\n",
       "      <td>2012c6psc6598p</td>\n",
       "      <td>pilani</td>\n",
       "      <td>ms</td>\n",
       "      <td>computer science</td>\n",
       "      <td>NaN</td>\n",
       "      <td>6.70</td>\n",
       "      <td>arizonastate</td>\n",
       "      <td>159.0</td>\n",
       "      <td>167.0</td>\n",
       "      <td>3.5</td>\n",
       "      <td>110.0</td>\n",
       "      <td>arizona state university, suny buffalo, suny s...</td>\n",
       "      <td>arizona state university, suny buffalo</td>\n",
       "      <td>no</td>\n",
       "      <td>yes</td>\n",
       "      <td>1.5</td>\n",
       "      <td>yes</td>\n",
       "      <td>no</td>\n",
       "      <td>no</td>\n",
       "      <td>no</td>\n",
       "      <td>209.0</td>\n",
       "      <td>no</td>\n",
       "      <td>yes</td>\n",
       "    </tr>\n",
       "    <tr>\n",
       "      <th>2</th>\n",
       "      <td>2014a3ps224p</td>\n",
       "      <td>pilani</td>\n",
       "      <td>ms</td>\n",
       "      <td>mechanical engineering</td>\n",
       "      <td>robotics</td>\n",
       "      <td>7.78</td>\n",
       "      <td>arizonastate</td>\n",
       "      <td>154.0</td>\n",
       "      <td>169.0</td>\n",
       "      <td>3.5</td>\n",
       "      <td>110.0</td>\n",
       "      <td>arizona state university, georgia tech, johns ...</td>\n",
       "      <td>u maryland, u mich</td>\n",
       "      <td>no</td>\n",
       "      <td>no</td>\n",
       "      <td>0.0</td>\n",
       "      <td>no</td>\n",
       "      <td>no</td>\n",
       "      <td>no</td>\n",
       "      <td>no</td>\n",
       "      <td>209.0</td>\n",
       "      <td>no</td>\n",
       "      <td>yes</td>\n",
       "    </tr>\n",
       "    <tr>\n",
       "      <th>3</th>\n",
       "      <td>2015a3ps0270p</td>\n",
       "      <td>pilani</td>\n",
       "      <td>ms</td>\n",
       "      <td>computer science</td>\n",
       "      <td>NaN</td>\n",
       "      <td>7.98</td>\n",
       "      <td>arizonastate</td>\n",
       "      <td>148.0</td>\n",
       "      <td>169.0</td>\n",
       "      <td>4.0</td>\n",
       "      <td>103.0</td>\n",
       "      <td>arizona state university, san jose state unive...</td>\n",
       "      <td>arizona state university, suny buffalo, u flor...</td>\n",
       "      <td>no</td>\n",
       "      <td>no</td>\n",
       "      <td>0.5</td>\n",
       "      <td>yes</td>\n",
       "      <td>no</td>\n",
       "      <td>no</td>\n",
       "      <td>no</td>\n",
       "      <td>209.0</td>\n",
       "      <td>no</td>\n",
       "      <td>yes</td>\n",
       "    </tr>\n",
       "    <tr>\n",
       "      <th>4</th>\n",
       "      <td>2012b1a4761p</td>\n",
       "      <td>pilani</td>\n",
       "      <td>phd</td>\n",
       "      <td>bioengineering</td>\n",
       "      <td>tissue engineering</td>\n",
       "      <td>8.40</td>\n",
       "      <td>boston</td>\n",
       "      <td>163.0</td>\n",
       "      <td>164.0</td>\n",
       "      <td>5.0</td>\n",
       "      <td>118.0</td>\n",
       "      <td>boston university, georgia tech, harvard unive...</td>\n",
       "      <td>boston university, u caifornia irvine, tufts u...</td>\n",
       "      <td>yes</td>\n",
       "      <td>yes</td>\n",
       "      <td>1.5</td>\n",
       "      <td>yes</td>\n",
       "      <td>yes</td>\n",
       "      <td>no</td>\n",
       "      <td>yes</td>\n",
       "      <td>81.0</td>\n",
       "      <td>yes</td>\n",
       "      <td>yes</td>\n",
       "    </tr>\n",
       "  </tbody>\n",
       "</table>\n",
       "</div>"
      ],
      "text/plain": [
       "          BITS ID  Campus Program Applied       Target Discipline  \\\n",
       "0   2015a7ts0081p  pilani              ms        computer science   \n",
       "1  2012c6psc6598p  pilani              ms        computer science   \n",
       "2    2014a3ps224p  pilani              ms  mechanical engineering   \n",
       "3   2015a3ps0270p  pilani              ms        computer science   \n",
       "4    2012b1a4761p  pilani             phd          bioengineering   \n",
       "\n",
       "                              Sub-Discipline  CGPA University Selected  \\\n",
       "0  artificial intelligence/ machine learning  7.93        arizonastate   \n",
       "1                                        NaN  6.70        arizonastate   \n",
       "2                                   robotics  7.78        arizonastate   \n",
       "3                                        NaN  7.98        arizonastate   \n",
       "4                        tissue engineering   8.40              boston   \n",
       "\n",
       "   GRE Score : Verbal  GRE Score : Quant  GRE Score : AWA  TOEFL Score  \\\n",
       "0               154.0              170.0              4.0        105.0   \n",
       "1               159.0              167.0              3.5        110.0   \n",
       "2               154.0              169.0              3.5        110.0   \n",
       "3               148.0              169.0              4.0        103.0   \n",
       "4               163.0              164.0              5.0        118.0   \n",
       "\n",
       "                                Universities Applied  \\\n",
       "0  arizona state university, carnegie melon unive...   \n",
       "1  arizona state university, suny buffalo, suny s...   \n",
       "2  arizona state university, georgia tech, johns ...   \n",
       "3  arizona state university, san jose state unive...   \n",
       "4  boston university, georgia tech, harvard unive...   \n",
       "\n",
       "                                  Universities Admit  \\\n",
       "0                           arizona state university   \n",
       "1             arizona state university, suny buffalo   \n",
       "2                                 u maryland, u mich   \n",
       "3  arizona state university, suny buffalo, u flor...   \n",
       "4  boston university, u caifornia irvine, tufts u...   \n",
       "\n",
       "  Universities (Funded admit) Work experience  Duration of work experience  \\\n",
       "0                          no             yes                          1.5   \n",
       "1                          no             yes                          1.5   \n",
       "2                          no              no                          0.0   \n",
       "3                          no              no                          0.5   \n",
       "4                         yes             yes                          1.5   \n",
       "\n",
       "  Relevance of PS2/Thesis to program Internship other than PS1/PS2  \\\n",
       "0                                 no                           yes   \n",
       "1                                yes                            no   \n",
       "2                                 no                            no   \n",
       "3                                yes                            no   \n",
       "4                                yes                           yes   \n",
       "\n",
       "  Consultancy/Classes Conference publication   rank Other Internship Success?  \n",
       "0                  no                    yes  209.0              yes      yes  \n",
       "1                  no                     no  209.0               no      yes  \n",
       "2                  no                     no  209.0               no      yes  \n",
       "3                  no                     no  209.0               no      yes  \n",
       "4                  no                    yes   81.0              yes      yes  "
      ]
     },
     "execution_count": 33,
     "metadata": {},
     "output_type": "execute_result"
    }
   ],
   "source": [
    "pd.set_option('display.max_rows', None)\n",
    "pd.set_option('display.max_columns', None)\n",
    "dataset.head()"
   ]
  },
  {
   "cell_type": "code",
   "execution_count": 34,
   "metadata": {},
   "outputs": [],
   "source": [
    "dataset.columns = dataset.columns.str.lower()"
   ]
  },
  {
   "cell_type": "code",
   "execution_count": 35,
   "metadata": {},
   "outputs": [
    {
     "name": "stdout",
     "output_type": "stream",
     "text": [
      "<class 'pandas.core.frame.DataFrame'>\n",
      "RangeIndex: 1426 entries, 0 to 1425\n",
      "Data columns (total 23 columns):\n",
      "bits id                               1426 non-null object\n",
      "campus                                1426 non-null object\n",
      "program applied                       1426 non-null object\n",
      "target discipline                     1426 non-null object\n",
      "sub-discipline                        1002 non-null object\n",
      "cgpa                                  1426 non-null float64\n",
      "university selected                   1282 non-null object\n",
      "gre score : verbal                    1426 non-null float64\n",
      "gre score : quant                     1426 non-null float64\n",
      "gre score : awa                       1426 non-null float64\n",
      "toefl score                           1426 non-null float64\n",
      "universities applied                  1425 non-null object\n",
      "universities admit                    1407 non-null object\n",
      "universities (funded admit)           1426 non-null object\n",
      "work experience                       1426 non-null object\n",
      "duration of work experience           1426 non-null float64\n",
      "relevance of ps2/thesis to program    1426 non-null object\n",
      "internship other than ps1/ps2         1425 non-null object\n",
      "consultancy/classes                   1426 non-null object\n",
      "conference publication                1426 non-null object\n",
      "rank                                  1282 non-null float64\n",
      "other internship                      1426 non-null object\n",
      "success?                              1426 non-null object\n",
      "dtypes: float64(7), object(16)\n",
      "memory usage: 256.3+ KB\n"
     ]
    }
   ],
   "source": [
    "dataset.info()"
   ]
  },
  {
   "cell_type": "code",
   "execution_count": 77,
   "metadata": {},
   "outputs": [
    {
     "data": {
      "text/html": [
       "<div>\n",
       "<style scoped>\n",
       "    .dataframe tbody tr th:only-of-type {\n",
       "        vertical-align: middle;\n",
       "    }\n",
       "\n",
       "    .dataframe tbody tr th {\n",
       "        vertical-align: top;\n",
       "    }\n",
       "\n",
       "    .dataframe thead th {\n",
       "        text-align: right;\n",
       "    }\n",
       "</style>\n",
       "<table border=\"1\" class=\"dataframe\">\n",
       "  <thead>\n",
       "    <tr style=\"text-align: right;\">\n",
       "      <th></th>\n",
       "      <th>cgpa</th>\n",
       "      <th>gre score : verbal</th>\n",
       "      <th>gre score : quant</th>\n",
       "      <th>gre score : awa</th>\n",
       "      <th>toefl score</th>\n",
       "      <th>duration of work experience</th>\n",
       "      <th>rank</th>\n",
       "    </tr>\n",
       "  </thead>\n",
       "  <tbody>\n",
       "    <tr>\n",
       "      <th>count</th>\n",
       "      <td>1426.000000</td>\n",
       "      <td>1426.000000</td>\n",
       "      <td>1426.000000</td>\n",
       "      <td>1426.000000</td>\n",
       "      <td>1426.000000</td>\n",
       "      <td>1426.000000</td>\n",
       "      <td>1282.000000</td>\n",
       "    </tr>\n",
       "    <tr>\n",
       "      <th>mean</th>\n",
       "      <td>8.250832</td>\n",
       "      <td>158.277069</td>\n",
       "      <td>164.004841</td>\n",
       "      <td>3.835397</td>\n",
       "      <td>109.794158</td>\n",
       "      <td>0.985188</td>\n",
       "      <td>115.024181</td>\n",
       "    </tr>\n",
       "    <tr>\n",
       "      <th>std</th>\n",
       "      <td>0.967773</td>\n",
       "      <td>6.437884</td>\n",
       "      <td>6.396394</td>\n",
       "      <td>0.632985</td>\n",
       "      <td>5.722412</td>\n",
       "      <td>1.200720</td>\n",
       "      <td>141.435537</td>\n",
       "    </tr>\n",
       "    <tr>\n",
       "      <th>min</th>\n",
       "      <td>0.000000</td>\n",
       "      <td>138.000000</td>\n",
       "      <td>136.000000</td>\n",
       "      <td>2.000000</td>\n",
       "      <td>85.000000</td>\n",
       "      <td>0.000000</td>\n",
       "      <td>0.000000</td>\n",
       "    </tr>\n",
       "    <tr>\n",
       "      <th>25%</th>\n",
       "      <td>7.592500</td>\n",
       "      <td>154.000000</td>\n",
       "      <td>163.000000</td>\n",
       "      <td>3.500000</td>\n",
       "      <td>107.000000</td>\n",
       "      <td>0.000000</td>\n",
       "      <td>3.000000</td>\n",
       "    </tr>\n",
       "    <tr>\n",
       "      <th>50%</th>\n",
       "      <td>8.310000</td>\n",
       "      <td>159.000000</td>\n",
       "      <td>166.000000</td>\n",
       "      <td>4.000000</td>\n",
       "      <td>110.538160</td>\n",
       "      <td>0.500000</td>\n",
       "      <td>67.000000</td>\n",
       "    </tr>\n",
       "    <tr>\n",
       "      <th>75%</th>\n",
       "      <td>9.000000</td>\n",
       "      <td>163.000000</td>\n",
       "      <td>168.000000</td>\n",
       "      <td>4.000000</td>\n",
       "      <td>114.000000</td>\n",
       "      <td>2.000000</td>\n",
       "      <td>178.000000</td>\n",
       "    </tr>\n",
       "    <tr>\n",
       "      <th>max</th>\n",
       "      <td>10.000000</td>\n",
       "      <td>170.000000</td>\n",
       "      <td>170.000000</td>\n",
       "      <td>6.000000</td>\n",
       "      <td>120.000000</td>\n",
       "      <td>8.000000</td>\n",
       "      <td>854.000000</td>\n",
       "    </tr>\n",
       "  </tbody>\n",
       "</table>\n",
       "</div>"
      ],
      "text/plain": [
       "              cgpa  gre score : verbal  gre score : quant  gre score : awa  \\\n",
       "count  1426.000000         1426.000000        1426.000000      1426.000000   \n",
       "mean      8.250832          158.277069         164.004841         3.835397   \n",
       "std       0.967773            6.437884           6.396394         0.632985   \n",
       "min       0.000000          138.000000         136.000000         2.000000   \n",
       "25%       7.592500          154.000000         163.000000         3.500000   \n",
       "50%       8.310000          159.000000         166.000000         4.000000   \n",
       "75%       9.000000          163.000000         168.000000         4.000000   \n",
       "max      10.000000          170.000000         170.000000         6.000000   \n",
       "\n",
       "       toefl score  duration of work experience         rank  \n",
       "count  1426.000000                  1426.000000  1282.000000  \n",
       "mean    109.794158                     0.985188   115.024181  \n",
       "std       5.722412                     1.200720   141.435537  \n",
       "min      85.000000                     0.000000     0.000000  \n",
       "25%     107.000000                     0.000000     3.000000  \n",
       "50%     110.538160                     0.500000    67.000000  \n",
       "75%     114.000000                     2.000000   178.000000  \n",
       "max     120.000000                     8.000000   854.000000  "
      ]
     },
     "execution_count": 77,
     "metadata": {},
     "output_type": "execute_result"
    }
   ],
   "source": [
    "dataset.describe()"
   ]
  },
  {
   "cell_type": "markdown",
   "metadata": {},
   "source": [
    "Observations \n",
    "- The mean rank value is espcially wrong due to imputing values to zero for not successful applications\n",
    "- Maximum of work duration seems like an outlier"
   ]
  },
  {
   "cell_type": "code",
   "execution_count": 78,
   "metadata": {},
   "outputs": [],
   "source": [
    "#looking for outliers in duration of work experience\n",
    "l =dataset[dataset['duration of work experience'] > 10].index\n",
    "dataset.loc[l,'duration of work experience'] = dataset['duration of work experience'].mean()    #imputing with average"
   ]
  },
  {
   "cell_type": "code",
   "execution_count": 79,
   "metadata": {},
   "outputs": [],
   "source": [
    "numeric_features = []\n",
    "for column in dataset.columns:\n",
    "     if(dataset[column].dtypes == 'float64'):\n",
    "            numeric_features.append(column)"
   ]
  },
  {
   "cell_type": "code",
   "execution_count": 80,
   "metadata": {},
   "outputs": [
    {
     "data": {
      "text/plain": [
       "['cgpa',\n",
       " 'gre score : verbal',\n",
       " 'gre score : quant',\n",
       " 'gre score : awa',\n",
       " 'toefl score',\n",
       " 'duration of work experience',\n",
       " 'rank']"
      ]
     },
     "execution_count": 80,
     "metadata": {},
     "output_type": "execute_result"
    }
   ],
   "source": [
    "numeric_features"
   ]
  },
  {
   "cell_type": "code",
   "execution_count": 88,
   "metadata": {},
   "outputs": [
    {
     "data": {
      "image/png": "[encoded data removed]",
      "text/plain": [
       "<Figure size 432x288 with 1 Axes>"
      ]
     },
     "metadata": {
      "needs_background": "light"
     },
     "output_type": "display_data"
    },
    {
     "data": {
      "image/png": "[encoded data removed]",
      "text/plain": [
       "<Figure size 432x288 with 1 Axes>"
      ]
     },
     "metadata": {
      "needs_background": "light"
     },
     "output_type": "display_data"
    },
    {
     "data": {
      "image/png": "[encoded data removed]",
      "text/plain": [
       "<Figure size 432x288 with 1 Axes>"
      ]
     },
     "metadata": {
      "needs_background": "light"
     },
     "output_type": "display_data"
    },
    {
     "data": {
      "image/png": "[encoded data removed]",
      "text/plain": [
       "<Figure size 432x288 with 1 Axes>"
      ]
     },
     "metadata": {
      "needs_background": "light"
     },
     "output_type": "display_data"
    },
    {
     "data": {
      "image/png": "[encoded data removed]",
      "text/plain": [
       "<Figure size 432x288 with 1 Axes>"
      ]
     },
     "metadata": {
      "needs_background": "light"
     },
     "output_type": "display_data"
    },
    {
     "data": {
      "image/png": "[encoded data removed]",
      "text/plain": [
       "<Figure size 432x288 with 1 Axes>"
      ]
     },
     "metadata": {
      "needs_background": "light"
     },
     "output_type": "display_data"
    },
    {
     "name": "stderr",
     "output_type": "stream",
     "text": [
      "C:\\Users\\Lenovo\\Anaconda3\\lib\\site-packages\\numpy\\lib\\histograms.py:824: RuntimeWarning: invalid value encountered in greater_equal\n",
      "  keep = (tmp_a >= first_edge)\n",
      "C:\\Users\\Lenovo\\Anaconda3\\lib\\site-packages\\numpy\\lib\\histograms.py:825: RuntimeWarning: invalid value encountered in less_equal\n",
      "  keep &= (tmp_a <= last_edge)\n",
      "C:\\Users\\Lenovo\\Anaconda3\\lib\\site-packages\\statsmodels\\nonparametric\\kde.py:448: RuntimeWarning: invalid value encountered in greater\n",
      "  X = X[np.logical_and(X > clip[0], X < clip[1])] # won't work for two columns.\n",
      "C:\\Users\\Lenovo\\Anaconda3\\lib\\site-packages\\statsmodels\\nonparametric\\kde.py:448: RuntimeWarning: invalid value encountered in less\n",
      "  X = X[np.logical_and(X > clip[0], X < clip[1])] # won't work for two columns.\n"
     ]
    },
    {
     "data": {
      "image/png": "[encoded data removed]",
      "text/plain": [
       "<Figure size 432x288 with 1 Axes>"
      ]
     },
     "metadata": {
      "needs_background": "light"
     },
     "output_type": "display_data"
    }
   ],
   "source": [
    "for feature in numeric_features:\n",
    "    data=dataset.copy()\n",
    "    sns.distplot(data[feature],bins=40)\n",
    "    plt.xlabel(feature)\n",
    "    plt.ylabel(\"Count\")\n",
    "    plt.title(feature)\n",
    "    plt.show()\n",
    "\n"
   ]
  },
  {
   "cell_type": "markdown",
   "metadata": {},
   "source": [
    "Categorical features"
   ]
  },
  {
   "cell_type": "code",
   "execution_count": 97,
   "metadata": {},
   "outputs": [],
   "source": [
    "categorical_features = []\n",
    "for column in dataset.columns:\n",
    "     if((dataset[column].dtypes == 'object') & (column != 'bits id') ):                                #excluding bits id\n",
    "            categorical_features.append(column)"
   ]
  },
  {
   "cell_type": "code",
   "execution_count": 96,
   "metadata": {},
   "outputs": [
    {
     "data": {
      "text/plain": [
       "['campus',\n",
       " 'program applied',\n",
       " 'target discipline',\n",
       " 'sub-discipline',\n",
       " 'university selected',\n",
       " 'universities applied',\n",
       " 'universities admit',\n",
       " 'universities (funded admit)',\n",
       " 'work experience',\n",
       " 'relevance of ps2/thesis to program',\n",
       " 'internship other than ps1/ps2',\n",
       " 'consultancy/classes',\n",
       " 'conference publication',\n",
       " 'other internship',\n",
       " 'success?']"
      ]
     },
     "execution_count": 96,
     "metadata": {},
     "output_type": "execute_result"
    }
   ],
   "source": [
    "categorical_features"
   ]
  },
  {
   "cell_type": "code",
   "execution_count": 102,
   "metadata": {},
   "outputs": [
    {
     "data": {
      "image/png": "[encoded data removed]",
      "text/plain": [
       "<Figure size 432x288 with 1 Axes>"
      ]
     },
     "metadata": {
      "needs_background": "light"
     },
     "output_type": "display_data"
    },
    {
     "data": {
      "image/png": "[encoded data removed]",
      "text/plain": [
       "<Figure size 432x288 with 1 Axes>"
      ]
     },
     "metadata": {
      "needs_background": "light"
     },
     "output_type": "display_data"
    },
    {
     "data": {
      "image/png": "[encoded data removed]",
      "text/plain": [
       "<Figure size 432x288 with 1 Axes>"
      ]
     },
     "metadata": {
      "needs_background": "light"
     },
     "output_type": "display_data"
    },
    {
     "data": {
      "image/png": "[encoded data removed]",
      "text/plain": [
       "<Figure size 432x288 with 1 Axes>"
      ]
     },
     "metadata": {
      "needs_background": "light"
     },
     "output_type": "display_data"
    },
    {
     "data": {
      "image/png": "[encoded data removed]",
      "text/plain": [
       "<Figure size 432x288 with 1 Axes>"
      ]
     },
     "metadata": {
      "needs_background": "light"
     },
     "output_type": "display_data"
    },
    {
     "data": {
      "image/png": "[encoded data removed]",
      "text/plain": [
       "<Figure size 432x288 with 1 Axes>"
      ]
     },
     "metadata": {
      "needs_background": "light"
     },
     "output_type": "display_data"
    },
    {
     "data": {
      "image/png": "[encoded data removed]",
      "text/plain": [
       "<Figure size 432x288 with 1 Axes>"
      ]
     },
     "metadata": {
      "needs_background": "light"
     },
     "output_type": "display_data"
    },
    {
     "data": {
      "image/png": "[encoded data removed]",
      "text/plain": [
       "<Figure size 432x288 with 1 Axes>"
      ]
     },
     "metadata": {
      "needs_background": "light"
     },
     "output_type": "display_data"
    }
   ],
   "source": [
    "#Plotting features with small number of categories\n",
    "for feature in categorical_features:\n",
    "    if (dataset[feature].nunique()< 10):\n",
    "        sns.countplot(x = feature , data = dataset, hue= dataset['success?'])\n",
    "        plt.show()"
   ]
  },
  {
   "cell_type": "markdown",
   "metadata": {},
   "source": [
    "Rank 0 correspond to unsucessful applications, Awa score values are discrete"
   ]
  },
  {
   "cell_type": "code",
   "execution_count": 57,
   "metadata": {},
   "outputs": [
    {
     "data": {
      "text/plain": [
       "rank   university selected   \n",
       "0.0    not selected              298\n",
       "1.0    massachusettsinstitute      2\n",
       "2.0    stanford                   19\n",
       "3.0    harvard                     3\n",
       "4.0    californiainstitute         2\n",
       "6.0    oxford                      3\n",
       "7.0    collegelondon               1\n",
       "8.0    imperialcollege             5\n",
       "9.0    chicago                     4\n",
       "14.0   cornell                    11\n",
       "15.0   nationalsingapore           9\n",
       "17.0   johnshopkins                7\n",
       "18.0   columbia                   25\n",
       "19.0   pennsylvania               10\n",
       "21.0   michigan                   25\n",
       "       duke                        6\n",
       "23.0   edinburgh                   1\n",
       "27.0   californiaberkeley          7\n",
       "31.0   toronto                     6\n",
       "33.0   californialos              12\n",
       "41.0   melbourne                   2\n",
       "45.0   unsw                        1\n",
       "47.0   carnegiemellon             78\n",
       "       queensland                  1\n",
       "51.0   britishcolumbia             2\n",
       "52.0   newyork                    12\n",
       "54.0   delfttechnology            14\n",
       "55.0   wisconsinmadison           39\n",
       "57.0   warwick                     1\n",
       "59.0   ecolepolytechnique          1\n",
       "61.0   washington                 20\n",
       "64.0   technicalmunich             1\n",
       "65.0   glasgow                     1\n",
       "67.0   texasaustin                33\n",
       "69.0   illinoisurbana             25\n",
       "70.0   georgiainstitute           82\n",
       "71.0   leuven                      3\n",
       "73.0   zurich                      4\n",
       "81.0   boston                      3\n",
       "86.0   ohiostate                  21\n",
       "89.0   rice                        1\n",
       "90.0   alberta                     2\n",
       "93.0   pennsylvaniastate          12\n",
       "105.0  purdue                     32\n",
       "118.0  californiadavis             3\n",
       "122.0  essec                       1\n",
       "127.0  queenmary                   1\n",
       "129.0  maryland                   18\n",
       "132.0  southerncalifornia         10\n",
       "133.0  chalmers                    1\n",
       "141.0  rwthaachen                  6\n",
       "144.0  technicalberlin             1\n",
       "149.0  michiganstate               2\n",
       "152.0  waterloo                    6\n",
       "156.0  barcelona                   1\n",
       "163.0  minnesotatwin              17\n",
       "164.0  californiairvine           10\n",
       "168.0  collegedublin               1\n",
       "171.0  freiburg                    1\n",
       "173.0  virginia                   20\n",
       "178.0  florida                    32\n",
       "179.0  twente                      2\n",
       "182.0  coloradoboulder            10\n",
       "186.0  rochester                   2\n",
       "195.0  texasa&m                   38\n",
       "       stockholm                   1\n",
       "207.0  illinoischicago             5\n",
       "209.0  arizonastate               22\n",
       "210.0  western                     1\n",
       "213.0  casewestern                 1\n",
       "216.0  notredame                   1\n",
       "223.0  hamburg                     1\n",
       "249.0  massachusettsamherst        6\n",
       "259.0  ntnunorway                  1\n",
       "262.0  curtin                      2\n",
       "263.0  northcarolina              41\n",
       "276.0  turku                       1\n",
       "283.0  rutgers                     8\n",
       "299.0  hongkong                    1\n",
       "301.0  californiasanta            47\n",
       "304.0  indiana                     2\n",
       "307.0  politecnicodi               1\n",
       "318.0  sunybuffalo                13\n",
       "323.0  californiariverside         5\n",
       "346.0  northeastern               17\n",
       "364.0  rensselaerpolytechnic       2\n",
       "382.0  stonybrook                  5\n",
       "391.0  utah                        3\n",
       "425.0  georgia                     1\n",
       "427.0  connecticut                 2\n",
       "428.0  delaware                    1\n",
       "430.0  texasdallas                11\n",
       "434.0  floridastate                1\n",
       "445.0  oregonstate                 3\n",
       "460.0  tennessee                   2\n",
       "469.0  newmexico                   1\n",
       "470.0  waynestate                  1\n",
       "474.0  iowastate                   5\n",
       "508.0  drexel                      1\n",
       "510.0  indianinstitute             1\n",
       "513.0  lehigh                      2\n",
       "523.0  syracuse                    2\n",
       "531.0  saarland                    2\n",
       "542.0  cincinnati                 13\n",
       "569.0  michigantechnological       2\n",
       "638.0  houston                     1\n",
       "676.0  temple                      1\n",
       "691.0  alabama                     2\n",
       "700.0  worcesterpolytechnic        1\n",
       "707.0  clemson                     3\n",
       "733.0  texastech                   1\n",
       "814.0  baylor                      2\n",
       "853.0  ohio                        1\n",
       "854.0  oklahomastate               2\n",
       "Name: university selected, dtype: int64"
      ]
     },
     "execution_count": 57,
     "metadata": {},
     "output_type": "execute_result"
    }
   ],
   "source": [
    "dataset['university selected'].groupby(dataset['rank']).value_counts()"
   ]
  },
  {
   "cell_type": "code",
   "execution_count": 45,
   "metadata": {},
   "outputs": [
    {
     "data": {
      "text/plain": [
       "114"
      ]
     },
     "execution_count": 45,
     "metadata": {},
     "output_type": "execute_result"
    }
   ],
   "source": [
    "dataset['university selected'].nunique()"
   ]
  },
  {
   "cell_type": "markdown",
   "metadata": {},
   "source": [
    "As there are a lot of universities selected for classification, making groups based on range of ranks "
   ]
  },
  {
   "cell_type": "code",
   "execution_count": 49,
   "metadata": {},
   "outputs": [
    {
     "data": {
      "text/plain": [
       "<matplotlib.axes._subplots.AxesSubplot at 0x25ceed047b8>"
      ]
     },
     "execution_count": 49,
     "metadata": {},
     "output_type": "execute_result"
    },
    {
     "data": {
      "image/png": "[encoded data removed]",
      "text/plain": [
       "<Figure size 432x288 with 1 Axes>"
      ]
     },
     "metadata": {
      "needs_background": "light"
     },
     "output_type": "display_data"
    }
   ],
   "source": [
    "pd.value_counts(dataset['conference publication']).plot.bar()"
   ]
  },
  {
   "cell_type": "code",
   "execution_count": 23,
   "metadata": {},
   "outputs": [
    {
     "data": {
      "text/plain": [
       "0.0      298\n",
       "70.0      82\n",
       "47.0      79\n",
       "301.0     47\n",
       "263.0     41\n",
       "195.0     39\n",
       "55.0      39\n",
       "67.0      33\n",
       "105.0     32\n",
       "178.0     32\n",
       "21.0      31\n",
       "69.0      25\n",
       "18.0      25\n",
       "209.0     22\n",
       "86.0      21\n",
       "173.0     20\n",
       "61.0      20\n",
       "2.0       19\n",
       "129.0     18\n",
       "346.0     17\n",
       "163.0     17\n",
       "54.0      14\n",
       "542.0     13\n",
       "318.0     13\n",
       "52.0      12\n",
       "93.0      12\n",
       "33.0      12\n",
       "14.0      11\n",
       "430.0     11\n",
       "19.0      10\n",
       "182.0     10\n",
       "132.0     10\n",
       "164.0     10\n",
       "15.0       9\n",
       "283.0      8\n",
       "27.0       7\n",
       "17.0       7\n",
       "152.0      6\n",
       "249.0      6\n",
       "31.0       6\n",
       "141.0      6\n",
       "474.0      5\n",
       "323.0      5\n",
       "207.0      5\n",
       "8.0        5\n",
       "382.0      5\n",
       "73.0       4\n",
       "9.0        4\n",
       "71.0       3\n",
       "707.0      3\n",
       "445.0      3\n",
       "6.0        3\n",
       "118.0      3\n",
       "81.0       3\n",
       "3.0        3\n",
       "391.0      3\n",
       "90.0       2\n",
       "51.0       2\n",
       "1.0        2\n",
       "691.0      2\n",
       "304.0      2\n",
       "41.0       2\n",
       "4.0        2\n",
       "569.0      2\n",
       "814.0      2\n",
       "460.0      2\n",
       "427.0      2\n",
       "149.0      2\n",
       "854.0      2\n",
       "531.0      2\n",
       "186.0      2\n",
       "262.0      2\n",
       "364.0      2\n",
       "513.0      2\n",
       "179.0      2\n",
       "523.0      2\n",
       "144.0      1\n",
       "64.0       1\n",
       "7.0        1\n",
       "210.0      1\n",
       "508.0      1\n",
       "127.0      1\n",
       "259.0      1\n",
       "57.0       1\n",
       "156.0      1\n",
       "122.0      1\n",
       "700.0      1\n",
       "676.0      1\n",
       "510.0      1\n",
       "470.0      1\n",
       "853.0      1\n",
       "469.0      1\n",
       "89.0       1\n",
       "276.0      1\n",
       "434.0      1\n",
       "733.0      1\n",
       "23.0       1\n",
       "213.0      1\n",
       "59.0       1\n",
       "45.0       1\n",
       "223.0      1\n",
       "171.0      1\n",
       "299.0      1\n",
       "428.0      1\n",
       "168.0      1\n",
       "216.0      1\n",
       "307.0      1\n",
       "133.0      1\n",
       "638.0      1\n",
       "65.0       1\n",
       "425.0      1\n",
       "Name: rank, dtype: int64"
      ]
     },
     "execution_count": 23,
     "metadata": {},
     "output_type": "execute_result"
    }
   ],
   "source": [
    "dataset['rank'].value_counts()"
   ]
  },
  {
   "cell_type": "markdown",
   "metadata": {},
   "source": [
    "Dealing with categorical variables "
   ]
  },
  {
   "cell_type": "code",
   "execution_count": null,
   "metadata": {},
   "outputs": [],
   "source": []
  }
 ],
 "metadata": {
  "kernelspec": {
   "display_name": "Python 3",
   "language": "python",
   "name": "python3"
  },
  "language_info": {
   "codemirror_mode": {
    "name": "ipython",
    "version": 3
   },
   "file_extension": ".py",
   "mimetype": "text/x-python",
   "name": "python",
   "nbconvert_exporter": "python",
   "pygments_lexer": "ipython3",
   "version": "3.7.3"
  }
 },
 "nbformat": 4,
 "nbformat_minor": 2
}
